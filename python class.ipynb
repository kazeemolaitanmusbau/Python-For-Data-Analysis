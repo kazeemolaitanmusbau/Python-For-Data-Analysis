{
 "cells": [
  {
   "cell_type": "markdown",
   "id": "a71cc251-22db-45a1-b352-2e8853e516a3",
   "metadata": {},
   "source": [
    "# introduction to jupyter note book\n",
    "\n",
    "this is `python class`, and it is fun to **be here**\n",
    "\n",
    "## introduction to jupyter note book\n",
    "\n",
    "\n",
    "### introduction to jupyter note book\n",
    "\n",
    "###### introduction to jupyter note book\n",
    "\n",
    "\n",
    "1. kazeem\n",
    "2. olaitan\n",
    "3. musbau\n",
    "\n",
    "\n",
    "- kazeem\n",
    "- olaitan\n",
    "- musbau"
   ]
  },
  {
   "cell_type": "code",
   "execution_count": 8,
   "id": "91fd5b45-2a2a-4bc5-a1fb-8bc330f4fe45",
   "metadata": {},
   "outputs": [
    {
     "name": "stdout",
     "output_type": "stream",
     "text": [
      "kazeem olaitan musbau\n"
     ]
    }
   ],
   "source": [
    "# writing my first python code by print my name\n",
    "print(\"kazeem olaitan musbau\")"
   ]
  },
  {
   "cell_type": "code",
   "execution_count": null,
   "id": "12a3cec9-2de8-4e66-ab70-859b33686dab",
   "metadata": {},
   "outputs": [],
   "source": []
  },
  {
   "cell_type": "markdown",
   "id": "7e7fdc92-6650-4db7-a784-0d6b4dd6cd0e",
   "metadata": {},
   "source": [
    "# Variable and identifier\n",
    "- Variable is an object occupying space on the computer memory\n",
    "- identifier is used to identify variable\n",
    "\n",
    "\n",
    "## Rules for naming variable/identifier\n",
    "1. Variable name can not be join together with white space, use under score instead\n",
    "2. Any especial character can not be included in variable name except under score\n",
    "3. Number can not start name of variable, though it can be find else where\n",
    "4. Variable should be descriptive"
   ]
  },
  {
   "cell_type": "code",
   "execution_count": 19,
   "id": "d48326df-6447-48cd-83f5-0310029854e2",
   "metadata": {},
   "outputs": [],
   "source": [
    "ola_age = 5"
   ]
  },
  {
   "cell_type": "code",
   "execution_count": 25,
   "id": "0b963741-2837-485d-8afe-c3bb06fd665f",
   "metadata": {},
   "outputs": [],
   "source": [
    "kemi_age = 55"
   ]
  },
  {
   "cell_type": "code",
   "execution_count": 27,
   "id": "f68dc148-9427-4b66-b20a-7ad6c12cdece",
   "metadata": {},
   "outputs": [
    {
     "name": "stdout",
     "output_type": "stream",
     "text": [
      "5\n"
     ]
    }
   ],
   "source": [
    "print(ola)"
   ]
  },
  {
   "cell_type": "code",
   "execution_count": 29,
   "id": "1e67aae7-9167-478f-b7eb-18dbbc4e1754",
   "metadata": {},
   "outputs": [
    {
     "name": "stdout",
     "output_type": "stream",
     "text": [
      "55\n"
     ]
    }
   ],
   "source": [
    "print(kemi)"
   ]
  },
  {
   "cell_type": "code",
   "execution_count": 35,
   "id": "6c6190e2-d755-4e01-ba1e-02260d6edcb5",
   "metadata": {},
   "outputs": [
    {
     "name": "stdout",
     "output_type": "stream",
     "text": [
      "kaaeem\n"
     ]
    }
   ],
   "source": [
    "first_name = \"kaaeem\" # defining variable\n",
    "print(first_name)  # calling the variable"
   ]
  },
  {
   "cell_type": "code",
   "execution_count": 43,
   "id": "b7b7c02c-9bf2-4f1a-9480-b525d66d9fb2",
   "metadata": {},
   "outputs": [],
   "source": [
    "name_ = \"kazeem\""
   ]
  },
  {
   "cell_type": "code",
   "execution_count": 49,
   "id": "2aa73bc2-6ac6-44b4-ad1f-426e8b1ea395",
   "metadata": {},
   "outputs": [],
   "source": [
    "name_1 = \"kazeem\"\n",
    "name_2 = \"kazeem\"\n",
    "name_3 = \"kazeem\"\n",
    "name_4 = \"kazeem\"\n"
   ]
  },
  {
   "cell_type": "code",
   "execution_count": 70,
   "id": "14ebfddf-f874-49f2-9123-2687162f9a30",
   "metadata": {},
   "outputs": [
    {
     "name": "stdout",
     "output_type": "stream",
     "text": [
      "my name is  kazeem olaitan and i am  12 years old from lagos\n"
     ]
    }
   ],
   "source": [
    "first_name = \"kazeem\"\n",
    "last_name = \"olaitan\"\n",
    "age = 12\n",
    "location = \"lagos\"\n",
    "print( \"my name is \", first_name, last_name, \"and i am \", age, \"years old from\", location)"
   ]
  },
  {
   "cell_type": "code",
   "execution_count": 76,
   "id": "cae92b45-a754-44fc-8e1c-ba0fdafff87a",
   "metadata": {},
   "outputs": [
    {
     "name": "stdin",
     "output_type": "stream",
     "text": [
      "please enter your first name  Taiwo\n",
      "please enter your last name  kapi\n",
      "how old are you  11\n",
      "where are you from  PH\n"
     ]
    },
    {
     "name": "stdout",
     "output_type": "stream",
     "text": [
      "my name is  Taiwo kapi and i am  11 years old from PH\n"
     ]
    }
   ],
   "source": [
    "# input function: is use to accept entries from a user\n",
    "first_name = input(\"please enter your first name \")\n",
    "last_name =input('please enter your last name ')\n",
    "age = input(\"how old are you \")\n",
    "location = input(\"where are you from \")\n",
    "print( \"my name is \", first_name, last_name, \"and i am \", age, \"years old from\", location)"
   ]
  },
  {
   "cell_type": "code",
   "execution_count": null,
   "id": "bb8f66bd-9ca7-4ae9-9851-9abe120c66bc",
   "metadata": {},
   "outputs": [],
   "source": []
  },
  {
   "cell_type": "code",
   "execution_count": null,
   "id": "22094d29-f9b2-428a-a4c4-7a562cb4d1f2",
   "metadata": {},
   "outputs": [],
   "source": []
  },
  {
   "cell_type": "code",
   "execution_count": null,
   "id": "fe7408d3-da57-47aa-93d1-b9097cab0a6b",
   "metadata": {},
   "outputs": [],
   "source": []
  }
 ],
 "metadata": {
  "kernelspec": {
   "display_name": "Python [conda env:base] *",
   "language": "python",
   "name": "conda-base-py"
  },
  "language_info": {
   "codemirror_mode": {
    "name": "ipython",
    "version": 3
   },
   "file_extension": ".py",
   "mimetype": "text/x-python",
   "name": "python",
   "nbconvert_exporter": "python",
   "pygments_lexer": "ipython3",
   "version": "3.12.7"
  }
 },
 "nbformat": 4,
 "nbformat_minor": 5
}
